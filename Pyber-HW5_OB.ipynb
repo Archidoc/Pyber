{
 "cells": [
  {
   "cell_type": "markdown",
   "metadata": {},
   "source": [
    "# Analysis\n"
   ]
  },
  {
   "cell_type": "code",
   "execution_count": null,
   "metadata": {},
   "outputs": [],
   "source": [
    "# 1/ The first observation one can make is that there is a strong relation ship between supply and demand in term of average fare per city. \n",
    "# Indeed the Urban type of city account for the highest number of drivers making 2/3 of the total of drivers leading to the highest number of rides.\n",
    "# A deeper dive into another set of data would be necessary to understand the average miles count per ride, but it seems logical that the distance being shorter in urban city with various point of interest from a point A to a point B, the number of rides are therefore more numerous.\n",
    "# We can notice then that the urban average fare per city (24.6$) is around 30% cheaper than a rural onc (33.3$) where the amount of rides are much less, and also possibly longer since the point of interest could also be more distant from a point A to a point B.\n",
    "\n",
    "# 2/The number of rides seems to be somehow proportional to the number of drivers regardless of the city type with a slight difference with the rural environment, where less people are in demand.\n",
    "# The price increase in rural environment is possibly due to less concurence from one driver to another, and comes at a prime cost since the competition is less intense.\n",
    "# Indeed it is often perceived that urban dense cities have other mode of transportation (subway, bus, trolley etc) than rural cities where people have one to two cars per household.\n",
    "# Thus getting a lift through Pyber might be more unique and rare. It would be necessary to come with additional set of data to understand what type of population drives this trend.\n",
    "\n",
    "# 3/ There is a strong concentration of rides in Urban cities finding a sweet spot of 25$ on average per ride for the highest number of drivers. That price seems to be competitive and came naturally as a mean value from the dataset.\n",
    "# Thus it can be estimated that any ride above that price would induce an additional prime cost of few dollars more trending toward either more distance to ride or a higher peak cost due to the demand/supply at different time of the day.\n",
    "# Additional data would be necessary to understand the time of the day that people take Pyber as a mode of transportation to figure out what is the reason of the cost.\n",
    "# A 25, median, 75 percentile chart would be interesting to look at. That being said, with the current data, it is clear that that the highest averaged fare per city in rural area is twice more than the average one in Urban area.\n",
    "\n",
    "#4/ Overall the scatter plot reveal a pretty clear \"hockey stick\" curve showing that supply and demand are linked together.\n",
    "# Indeed the less the rides taken, the more it costs, the more the rides taken, the less it costs."
   ]
  },
  {
   "cell_type": "code",
   "execution_count": 228,
   "metadata": {},
   "outputs": [],
   "source": [
    "# Import Dependencies\n",
    "import matplotlib.pyplot as plt\n",
    "import numpy as np\n",
    "import pandas as pd"
   ]
  },
  {
   "cell_type": "code",
   "execution_count": 229,
   "metadata": {},
   "outputs": [
    {
     "data": {
      "text/html": [
       "<div>\n",
       "<style scoped>\n",
       "    .dataframe tbody tr th:only-of-type {\n",
       "        vertical-align: middle;\n",
       "    }\n",
       "\n",
       "    .dataframe tbody tr th {\n",
       "        vertical-align: top;\n",
       "    }\n",
       "\n",
       "    .dataframe thead th {\n",
       "        text-align: right;\n",
       "    }\n",
       "</style>\n",
       "<table border=\"1\" class=\"dataframe\">\n",
       "  <thead>\n",
       "    <tr style=\"text-align: right;\">\n",
       "      <th></th>\n",
       "      <th>city</th>\n",
       "      <th>driver_count</th>\n",
       "      <th>type</th>\n",
       "    </tr>\n",
       "  </thead>\n",
       "  <tbody>\n",
       "    <tr>\n",
       "      <th>0</th>\n",
       "      <td>Tammyburgh</td>\n",
       "      <td>11</td>\n",
       "      <td>Urban</td>\n",
       "    </tr>\n",
       "    <tr>\n",
       "      <th>1</th>\n",
       "      <td>Melissaborough</td>\n",
       "      <td>15</td>\n",
       "      <td>Urban</td>\n",
       "    </tr>\n",
       "    <tr>\n",
       "      <th>2</th>\n",
       "      <td>Port Brianborough</td>\n",
       "      <td>62</td>\n",
       "      <td>Urban</td>\n",
       "    </tr>\n",
       "    <tr>\n",
       "      <th>3</th>\n",
       "      <td>New Katherine</td>\n",
       "      <td>68</td>\n",
       "      <td>Urban</td>\n",
       "    </tr>\n",
       "    <tr>\n",
       "      <th>4</th>\n",
       "      <td>Lake Charlesside</td>\n",
       "      <td>65</td>\n",
       "      <td>Urban</td>\n",
       "    </tr>\n",
       "  </tbody>\n",
       "</table>\n",
       "</div>"
      ],
      "text/plain": [
       "                city  driver_count   type\n",
       "0         Tammyburgh            11  Urban\n",
       "1     Melissaborough            15  Urban\n",
       "2  Port Brianborough            62  Urban\n",
       "3      New Katherine            68  Urban\n",
       "4   Lake Charlesside            65  Urban"
      ]
     },
     "execution_count": 229,
     "metadata": {},
     "output_type": "execute_result"
    }
   ],
   "source": [
    "# The path to the csv files\n",
    "city_data_csv = \"generated_data/city_data.csv\"\n",
    "ride_data_csv = \"generated_data/ride_data.csv\"\n",
    "\n",
    "# Read files city_data\n",
    "city_data_df= pd.read_csv(city_data_csv)\n",
    "city_data_df=city_data_df.drop_duplicates(\"city\")\n",
    "\n",
    "city_data_df.head()"
   ]
  },
  {
   "cell_type": "code",
   "execution_count": 272,
   "metadata": {},
   "outputs": [
    {
     "data": {
      "text/html": [
       "<div>\n",
       "<style scoped>\n",
       "    .dataframe tbody tr th:only-of-type {\n",
       "        vertical-align: middle;\n",
       "    }\n",
       "\n",
       "    .dataframe tbody tr th {\n",
       "        vertical-align: top;\n",
       "    }\n",
       "\n",
       "    .dataframe thead th {\n",
       "        text-align: right;\n",
       "    }\n",
       "</style>\n",
       "<table border=\"1\" class=\"dataframe\">\n",
       "  <thead>\n",
       "    <tr style=\"text-align: right;\">\n",
       "      <th></th>\n",
       "      <th>city</th>\n",
       "      <th>date</th>\n",
       "      <th>fare</th>\n",
       "      <th>ride_id</th>\n",
       "    </tr>\n",
       "  </thead>\n",
       "  <tbody>\n",
       "    <tr>\n",
       "      <th>0</th>\n",
       "      <td>Karenfurt</td>\n",
       "      <td>2017-01-01 19:03:03</td>\n",
       "      <td>32.90</td>\n",
       "      <td>3383346995405</td>\n",
       "    </tr>\n",
       "    <tr>\n",
       "      <th>1</th>\n",
       "      <td>Melissaborough</td>\n",
       "      <td>2017-01-01 08:55:58</td>\n",
       "      <td>19.59</td>\n",
       "      <td>2791839504576</td>\n",
       "    </tr>\n",
       "    <tr>\n",
       "      <th>2</th>\n",
       "      <td>Port Sandraport</td>\n",
       "      <td>2017-01-01 16:21:54</td>\n",
       "      <td>31.04</td>\n",
       "      <td>3341437383289</td>\n",
       "    </tr>\n",
       "    <tr>\n",
       "      <th>3</th>\n",
       "      <td>Curtismouth</td>\n",
       "      <td>2017-01-03 06:36:53</td>\n",
       "      <td>15.12</td>\n",
       "      <td>6557246300691</td>\n",
       "    </tr>\n",
       "    <tr>\n",
       "      <th>4</th>\n",
       "      <td>Port Michael</td>\n",
       "      <td>2017-01-03 09:56:52</td>\n",
       "      <td>19.65</td>\n",
       "      <td>9887635746234</td>\n",
       "    </tr>\n",
       "  </tbody>\n",
       "</table>\n",
       "</div>"
      ],
      "text/plain": [
       "              city                 date   fare        ride_id\n",
       "0        Karenfurt  2017-01-01 19:03:03  32.90  3383346995405\n",
       "1   Melissaborough  2017-01-01 08:55:58  19.59  2791839504576\n",
       "2  Port Sandraport  2017-01-01 16:21:54  31.04  3341437383289\n",
       "3      Curtismouth  2017-01-03 06:36:53  15.12  6557246300691\n",
       "4     Port Michael  2017-01-03 09:56:52  19.65  9887635746234"
      ]
     },
     "execution_count": 272,
     "metadata": {},
     "output_type": "execute_result"
    }
   ],
   "source": [
    "# Read files ride_data\n",
    "ride_data_df= pd.read_csv(ride_data_csv)\n",
    "ride_data_df.head()\n"
   ]
  },
  {
   "cell_type": "code",
   "execution_count": 231,
   "metadata": {},
   "outputs": [
    {
     "data": {
      "text/html": [
       "<div>\n",
       "<style scoped>\n",
       "    .dataframe tbody tr th:only-of-type {\n",
       "        vertical-align: middle;\n",
       "    }\n",
       "\n",
       "    .dataframe tbody tr th {\n",
       "        vertical-align: top;\n",
       "    }\n",
       "\n",
       "    .dataframe thead th {\n",
       "        text-align: right;\n",
       "    }\n",
       "</style>\n",
       "<table border=\"1\" class=\"dataframe\">\n",
       "  <thead>\n",
       "    <tr style=\"text-align: right;\">\n",
       "      <th></th>\n",
       "      <th>city</th>\n",
       "      <th>driver_count</th>\n",
       "      <th>type</th>\n",
       "      <th>date</th>\n",
       "      <th>fare</th>\n",
       "      <th>ride_id</th>\n",
       "    </tr>\n",
       "  </thead>\n",
       "  <tbody>\n",
       "    <tr>\n",
       "      <th>0</th>\n",
       "      <td>Tammyburgh</td>\n",
       "      <td>11</td>\n",
       "      <td>Urban</td>\n",
       "      <td>2017-01-02 10:56:28</td>\n",
       "      <td>12.40</td>\n",
       "      <td>7963408790849</td>\n",
       "    </tr>\n",
       "    <tr>\n",
       "      <th>1</th>\n",
       "      <td>Tammyburgh</td>\n",
       "      <td>11</td>\n",
       "      <td>Urban</td>\n",
       "      <td>2017-01-02 04:28:03</td>\n",
       "      <td>18.78</td>\n",
       "      <td>2315208159060</td>\n",
       "    </tr>\n",
       "    <tr>\n",
       "      <th>2</th>\n",
       "      <td>Tammyburgh</td>\n",
       "      <td>11</td>\n",
       "      <td>Urban</td>\n",
       "      <td>2017-01-03 03:00:08</td>\n",
       "      <td>30.10</td>\n",
       "      <td>558639764959</td>\n",
       "    </tr>\n",
       "    <tr>\n",
       "      <th>3</th>\n",
       "      <td>Tammyburgh</td>\n",
       "      <td>11</td>\n",
       "      <td>Urban</td>\n",
       "      <td>2017-01-01 00:10:21</td>\n",
       "      <td>7.76</td>\n",
       "      <td>9113511454178</td>\n",
       "    </tr>\n",
       "    <tr>\n",
       "      <th>4</th>\n",
       "      <td>Tammyburgh</td>\n",
       "      <td>11</td>\n",
       "      <td>Urban</td>\n",
       "      <td>2017-01-02 05:22:44</td>\n",
       "      <td>22.00</td>\n",
       "      <td>4171010688543</td>\n",
       "    </tr>\n",
       "  </tbody>\n",
       "</table>\n",
       "</div>"
      ],
      "text/plain": [
       "         city  driver_count   type                 date   fare        ride_id\n",
       "0  Tammyburgh            11  Urban  2017-01-02 10:56:28  12.40  7963408790849\n",
       "1  Tammyburgh            11  Urban  2017-01-02 04:28:03  18.78  2315208159060\n",
       "2  Tammyburgh            11  Urban  2017-01-03 03:00:08  30.10   558639764959\n",
       "3  Tammyburgh            11  Urban  2017-01-01 00:10:21   7.76  9113511454178\n",
       "4  Tammyburgh            11  Urban  2017-01-02 05:22:44  22.00  4171010688543"
      ]
     },
     "execution_count": 231,
     "metadata": {},
     "output_type": "execute_result"
    }
   ],
   "source": [
    "# Combine files\n",
    "city_ride_df = pd.merge(city_data_df, ride_data_df, on=\"city\")\n",
    "# Preview files combined\n",
    "city_ride_df.head()"
   ]
  },
  {
   "cell_type": "code",
   "execution_count": 232,
   "metadata": {},
   "outputs": [
    {
     "data": {
      "text/plain": [
       "city            2375\n",
       "driver_count    2375\n",
       "type            2375\n",
       "date            2375\n",
       "fare            2375\n",
       "ride_id         2375\n",
       "dtype: int64"
      ]
     },
     "execution_count": 232,
     "metadata": {},
     "output_type": "execute_result"
    }
   ],
   "source": [
    "# check missing data and type\n",
    "city_ride_df.count()\n",
    "# city_ride_df.dtypes"
   ]
  },
  {
   "cell_type": "code",
   "execution_count": 255,
   "metadata": {},
   "outputs": [
    {
     "data": {
      "text/plain": [
       "city\n",
       "Adamschester     9\n",
       "Alexisfort      33\n",
       "Amberberg       16\n",
       "Anthonyfurt     17\n",
       "Boyleberg        5\n",
       "Name: driver_count, dtype: int64"
      ]
     },
     "execution_count": 255,
     "metadata": {},
     "output_type": "execute_result"
    }
   ],
   "source": [
    "# Group by City\n",
    "group_city = city_ride_df.groupby(\"city\")\n",
    "\n",
    "# Average fare by City\n",
    "average_fare = group_city[\"fare\"].mean()\n",
    "average_fare.head()\n",
    "\n",
    "# Total number of ride by City\n",
    "ride_count = group_city[\"ride_id\"].count()\n",
    "ride_count.head()\n",
    "\n",
    "# Total number of drivers per City\n",
    "driver_count = group_city[\"driver_count\"].count()\n",
    "driver_count.head()\n",
    "\n",
    "# # City type\n",
    "# city_type = city_data_df.set_index(\"city\")[\"type\"]\n",
    "# city_type.value_counts()"
   ]
  },
  {
   "cell_type": "code",
   "execution_count": 256,
   "metadata": {},
   "outputs": [
    {
     "data": {
      "text/html": [
       "<div>\n",
       "<style scoped>\n",
       "    .dataframe tbody tr th:only-of-type {\n",
       "        vertical-align: middle;\n",
       "    }\n",
       "\n",
       "    .dataframe tbody tr th {\n",
       "        vertical-align: top;\n",
       "    }\n",
       "\n",
       "    .dataframe thead th {\n",
       "        text-align: right;\n",
       "    }\n",
       "</style>\n",
       "<table border=\"1\" class=\"dataframe\">\n",
       "  <thead>\n",
       "    <tr style=\"text-align: right;\">\n",
       "      <th></th>\n",
       "      <th>Average Fare per City</th>\n",
       "      <th>City Type</th>\n",
       "      <th>Number of Drivers</th>\n",
       "      <th>Number of Rides</th>\n",
       "    </tr>\n",
       "  </thead>\n",
       "  <tbody>\n",
       "    <tr>\n",
       "      <th>Adamschester</th>\n",
       "      <td>29.594444</td>\n",
       "      <td>Suburban</td>\n",
       "      <td>9</td>\n",
       "      <td>9</td>\n",
       "    </tr>\n",
       "    <tr>\n",
       "      <th>Alexisfort</th>\n",
       "      <td>27.366970</td>\n",
       "      <td>Urban</td>\n",
       "      <td>33</td>\n",
       "      <td>33</td>\n",
       "    </tr>\n",
       "    <tr>\n",
       "      <th>Amberberg</th>\n",
       "      <td>28.624375</td>\n",
       "      <td>Suburban</td>\n",
       "      <td>16</td>\n",
       "      <td>16</td>\n",
       "    </tr>\n",
       "    <tr>\n",
       "      <th>Anthonyfurt</th>\n",
       "      <td>29.491176</td>\n",
       "      <td>Suburban</td>\n",
       "      <td>17</td>\n",
       "      <td>17</td>\n",
       "    </tr>\n",
       "    <tr>\n",
       "      <th>Boyleberg</th>\n",
       "      <td>32.396000</td>\n",
       "      <td>Suburban</td>\n",
       "      <td>5</td>\n",
       "      <td>5</td>\n",
       "    </tr>\n",
       "  </tbody>\n",
       "</table>\n",
       "</div>"
      ],
      "text/plain": [
       "              Average Fare per City City Type  Number of Drivers  \\\n",
       "Adamschester              29.594444  Suburban                  9   \n",
       "Alexisfort                27.366970     Urban                 33   \n",
       "Amberberg                 28.624375  Suburban                 16   \n",
       "Anthonyfurt               29.491176  Suburban                 17   \n",
       "Boyleberg                 32.396000  Suburban                  5   \n",
       "\n",
       "              Number of Rides  \n",
       "Adamschester                9  \n",
       "Alexisfort                 33  \n",
       "Amberberg                  16  \n",
       "Anthonyfurt                17  \n",
       "Boyleberg                   5  "
      ]
     },
     "execution_count": 256,
     "metadata": {},
     "output_type": "execute_result"
    }
   ],
   "source": [
    "# create dataframe\n",
    "\n",
    "city_data = pd.DataFrame({\"Number of Rides\":ride_count,\n",
    "                          \"Average Fare per City\":average_fare, \n",
    "                          \"Number of Drivers\":driver_count, \n",
    "                          \"City Type\":city_type})\n",
    "\n",
    "# print the results\n",
    "city_data.head()\n",
    "\n",
    "# # format the results\n",
    "# city_data.style.format({\"Average Fare per City\":\"${:.1f}\"})"
   ]
  },
  {
   "cell_type": "code",
   "execution_count": 257,
   "metadata": {},
   "outputs": [
    {
     "data": {
      "text/html": [
       "<div>\n",
       "<style scoped>\n",
       "    .dataframe tbody tr th:only-of-type {\n",
       "        vertical-align: middle;\n",
       "    }\n",
       "\n",
       "    .dataframe tbody tr th {\n",
       "        vertical-align: top;\n",
       "    }\n",
       "\n",
       "    .dataframe thead th {\n",
       "        text-align: right;\n",
       "    }\n",
       "</style>\n",
       "<table border=\"1\" class=\"dataframe\">\n",
       "  <thead>\n",
       "    <tr style=\"text-align: right;\">\n",
       "      <th></th>\n",
       "      <th>Average Fare per City</th>\n",
       "      <th>City Type</th>\n",
       "      <th>Number of Drivers</th>\n",
       "      <th>Number of Rides</th>\n",
       "    </tr>\n",
       "  </thead>\n",
       "  <tbody>\n",
       "    <tr>\n",
       "      <th>Alexisfort</th>\n",
       "      <td>27.366970</td>\n",
       "      <td>Urban</td>\n",
       "      <td>33</td>\n",
       "      <td>33</td>\n",
       "    </tr>\n",
       "    <tr>\n",
       "      <th>Brianfurt</th>\n",
       "      <td>24.506818</td>\n",
       "      <td>Urban</td>\n",
       "      <td>22</td>\n",
       "      <td>22</td>\n",
       "    </tr>\n",
       "    <tr>\n",
       "      <th>Catherinebury</th>\n",
       "      <td>27.307931</td>\n",
       "      <td>Urban</td>\n",
       "      <td>29</td>\n",
       "      <td>29</td>\n",
       "    </tr>\n",
       "    <tr>\n",
       "      <th>Curtismouth</th>\n",
       "      <td>25.051935</td>\n",
       "      <td>Urban</td>\n",
       "      <td>31</td>\n",
       "      <td>31</td>\n",
       "    </tr>\n",
       "    <tr>\n",
       "      <th>East James</th>\n",
       "      <td>26.550714</td>\n",
       "      <td>Urban</td>\n",
       "      <td>28</td>\n",
       "      <td>28</td>\n",
       "    </tr>\n",
       "  </tbody>\n",
       "</table>\n",
       "</div>"
      ],
      "text/plain": [
       "               Average Fare per City City Type  Number of Drivers  \\\n",
       "Alexisfort                 27.366970     Urban                 33   \n",
       "Brianfurt                  24.506818     Urban                 22   \n",
       "Catherinebury              27.307931     Urban                 29   \n",
       "Curtismouth                25.051935     Urban                 31   \n",
       "East James                 26.550714     Urban                 28   \n",
       "\n",
       "               Number of Rides  \n",
       "Alexisfort                  33  \n",
       "Brianfurt                   22  \n",
       "Catherinebury               29  \n",
       "Curtismouth                 31  \n",
       "East James                  28  "
      ]
     },
     "execution_count": 257,
     "metadata": {},
     "output_type": "execute_result"
    }
   ],
   "source": [
    "# Highlight Urban rides\n",
    "urban_type = city_data.loc[city_data[\"City Type\"] == \"Urban\"]\n",
    "urban_type.head()"
   ]
  },
  {
   "cell_type": "code",
   "execution_count": 258,
   "metadata": {},
   "outputs": [
    {
     "data": {
      "text/html": [
       "<div>\n",
       "<style scoped>\n",
       "    .dataframe tbody tr th:only-of-type {\n",
       "        vertical-align: middle;\n",
       "    }\n",
       "\n",
       "    .dataframe tbody tr th {\n",
       "        vertical-align: top;\n",
       "    }\n",
       "\n",
       "    .dataframe thead th {\n",
       "        text-align: right;\n",
       "    }\n",
       "</style>\n",
       "<table border=\"1\" class=\"dataframe\">\n",
       "  <thead>\n",
       "    <tr style=\"text-align: right;\">\n",
       "      <th></th>\n",
       "      <th>Average Fare per City</th>\n",
       "      <th>City Type</th>\n",
       "      <th>Number of Drivers</th>\n",
       "      <th>Number of Rides</th>\n",
       "    </tr>\n",
       "  </thead>\n",
       "  <tbody>\n",
       "    <tr>\n",
       "      <th>Adamschester</th>\n",
       "      <td>29.594444</td>\n",
       "      <td>Suburban</td>\n",
       "      <td>9</td>\n",
       "      <td>9</td>\n",
       "    </tr>\n",
       "    <tr>\n",
       "      <th>Amberberg</th>\n",
       "      <td>28.624375</td>\n",
       "      <td>Suburban</td>\n",
       "      <td>16</td>\n",
       "      <td>16</td>\n",
       "    </tr>\n",
       "    <tr>\n",
       "      <th>Anthonyfurt</th>\n",
       "      <td>29.491176</td>\n",
       "      <td>Suburban</td>\n",
       "      <td>17</td>\n",
       "      <td>17</td>\n",
       "    </tr>\n",
       "    <tr>\n",
       "      <th>Boyleberg</th>\n",
       "      <td>32.396000</td>\n",
       "      <td>Suburban</td>\n",
       "      <td>5</td>\n",
       "      <td>5</td>\n",
       "    </tr>\n",
       "    <tr>\n",
       "      <th>Davidbury</th>\n",
       "      <td>30.834000</td>\n",
       "      <td>Suburban</td>\n",
       "      <td>20</td>\n",
       "      <td>20</td>\n",
       "    </tr>\n",
       "  </tbody>\n",
       "</table>\n",
       "</div>"
      ],
      "text/plain": [
       "              Average Fare per City City Type  Number of Drivers  \\\n",
       "Adamschester              29.594444  Suburban                  9   \n",
       "Amberberg                 28.624375  Suburban                 16   \n",
       "Anthonyfurt               29.491176  Suburban                 17   \n",
       "Boyleberg                 32.396000  Suburban                  5   \n",
       "Davidbury                 30.834000  Suburban                 20   \n",
       "\n",
       "              Number of Rides  \n",
       "Adamschester                9  \n",
       "Amberberg                  16  \n",
       "Anthonyfurt                17  \n",
       "Boyleberg                   5  \n",
       "Davidbury                  20  "
      ]
     },
     "execution_count": 258,
     "metadata": {},
     "output_type": "execute_result"
    }
   ],
   "source": [
    "# Highlight Suburdan rides\n",
    "suburban_type = city_data.loc[city_data[\"City Type\"] == \"Suburban\"]\n",
    "suburban_type.head()"
   ]
  },
  {
   "cell_type": "code",
   "execution_count": 259,
   "metadata": {},
   "outputs": [
    {
     "data": {
      "text/html": [
       "<div>\n",
       "<style scoped>\n",
       "    .dataframe tbody tr th:only-of-type {\n",
       "        vertical-align: middle;\n",
       "    }\n",
       "\n",
       "    .dataframe tbody tr th {\n",
       "        vertical-align: top;\n",
       "    }\n",
       "\n",
       "    .dataframe thead th {\n",
       "        text-align: right;\n",
       "    }\n",
       "</style>\n",
       "<table border=\"1\" class=\"dataframe\">\n",
       "  <thead>\n",
       "    <tr style=\"text-align: right;\">\n",
       "      <th></th>\n",
       "      <th>Average Fare per City</th>\n",
       "      <th>City Type</th>\n",
       "      <th>Number of Drivers</th>\n",
       "      <th>Number of Rides</th>\n",
       "    </tr>\n",
       "  </thead>\n",
       "  <tbody>\n",
       "    <tr>\n",
       "      <th>Campbellmouth</th>\n",
       "      <td>34.177500</td>\n",
       "      <td>Rural</td>\n",
       "      <td>8</td>\n",
       "      <td>8</td>\n",
       "    </tr>\n",
       "    <tr>\n",
       "      <th>Davidsonfurt</th>\n",
       "      <td>32.085000</td>\n",
       "      <td>Rural</td>\n",
       "      <td>2</td>\n",
       "      <td>2</td>\n",
       "    </tr>\n",
       "    <tr>\n",
       "      <th>Hoganfort</th>\n",
       "      <td>30.985455</td>\n",
       "      <td>Rural</td>\n",
       "      <td>11</td>\n",
       "      <td>11</td>\n",
       "    </tr>\n",
       "    <tr>\n",
       "      <th>Joshuaview</th>\n",
       "      <td>37.829091</td>\n",
       "      <td>Rural</td>\n",
       "      <td>11</td>\n",
       "      <td>11</td>\n",
       "    </tr>\n",
       "    <tr>\n",
       "      <th>Lake Joshuaburgh</th>\n",
       "      <td>42.265714</td>\n",
       "      <td>Rural</td>\n",
       "      <td>7</td>\n",
       "      <td>7</td>\n",
       "    </tr>\n",
       "  </tbody>\n",
       "</table>\n",
       "</div>"
      ],
      "text/plain": [
       "                  Average Fare per City City Type  Number of Drivers  \\\n",
       "Campbellmouth                 34.177500     Rural                  8   \n",
       "Davidsonfurt                  32.085000     Rural                  2   \n",
       "Hoganfort                     30.985455     Rural                 11   \n",
       "Joshuaview                    37.829091     Rural                 11   \n",
       "Lake Joshuaburgh              42.265714     Rural                  7   \n",
       "\n",
       "                  Number of Rides  \n",
       "Campbellmouth                   8  \n",
       "Davidsonfurt                    2  \n",
       "Hoganfort                      11  \n",
       "Joshuaview                     11  \n",
       "Lake Joshuaburgh                7  "
      ]
     },
     "execution_count": 259,
     "metadata": {},
     "output_type": "execute_result"
    }
   ],
   "source": [
    "# Highlight Rural rides\n",
    "rural_type = city_data.loc[city_data[\"City Type\"] == \"Rural\"]\n",
    "rural_type.head()"
   ]
  },
  {
   "cell_type": "code",
   "execution_count": 265,
   "metadata": {},
   "outputs": [
    {
     "data": {
      "text/plain": [
       "City Type\n",
       "Rural        125\n",
       "Suburban     625\n",
       "Urban       1625\n",
       "Name: Number of Rides, dtype: int64"
      ]
     },
     "execution_count": 265,
     "metadata": {},
     "output_type": "execute_result"
    }
   ],
   "source": [
    "# Bring results in dataframe\n",
    "rides_count_summary = city_data.groupby([\"City Type\"]).sum()[\"Number of Rides\"]\n",
    "rides_count_summary"
   ]
  },
  {
   "cell_type": "code",
   "execution_count": 266,
   "metadata": {},
   "outputs": [
    {
     "data": {
      "text/plain": [
       "City Type\n",
       "Rural       18\n",
       "Suburban    42\n",
       "Urban       66\n",
       "Name: Number of Drivers, dtype: int64"
      ]
     },
     "execution_count": 266,
     "metadata": {},
     "output_type": "execute_result"
    }
   ],
   "source": [
    "drivers_count_summary = city_data.groupby([\"City Type\"]).count()[\"Number of Drivers\"]\n",
    "drivers_count_summary"
   ]
  },
  {
   "cell_type": "code",
   "execution_count": 267,
   "metadata": {},
   "outputs": [
    {
     "data": {
      "text/plain": [
       "City Type\n",
       "Rural       33.304723\n",
       "Suburban    30.044145\n",
       "Urban       24.677581\n",
       "Name: Average Fare per City, dtype: float64"
      ]
     },
     "execution_count": 267,
     "metadata": {},
     "output_type": "execute_result"
    }
   ],
   "source": [
    "fare_mean_summary = city_data.groupby([\"City Type\"]).mean()[\"Average Fare per City\"]\n",
    "fare_mean_summary "
   ]
  },
  {
   "cell_type": "code",
   "execution_count": 269,
   "metadata": {},
   "outputs": [
    {
     "data": {
      "text/html": [
       "<div>\n",
       "<style scoped>\n",
       "    .dataframe tbody tr th:only-of-type {\n",
       "        vertical-align: middle;\n",
       "    }\n",
       "\n",
       "    .dataframe tbody tr th {\n",
       "        vertical-align: top;\n",
       "    }\n",
       "\n",
       "    .dataframe thead th {\n",
       "        text-align: right;\n",
       "    }\n",
       "</style>\n",
       "<table border=\"1\" class=\"dataframe\">\n",
       "  <thead>\n",
       "    <tr style=\"text-align: right;\">\n",
       "      <th></th>\n",
       "      <th>Average Fare per City</th>\n",
       "      <th>Number of Drivers</th>\n",
       "      <th>Number of Rides</th>\n",
       "    </tr>\n",
       "    <tr>\n",
       "      <th>City Type</th>\n",
       "      <th></th>\n",
       "      <th></th>\n",
       "      <th></th>\n",
       "    </tr>\n",
       "  </thead>\n",
       "  <tbody>\n",
       "    <tr>\n",
       "      <th>Rural</th>\n",
       "      <td>33.304723</td>\n",
       "      <td>18</td>\n",
       "      <td>125</td>\n",
       "    </tr>\n",
       "    <tr>\n",
       "      <th>Suburban</th>\n",
       "      <td>30.044145</td>\n",
       "      <td>42</td>\n",
       "      <td>625</td>\n",
       "    </tr>\n",
       "    <tr>\n",
       "      <th>Urban</th>\n",
       "      <td>24.677581</td>\n",
       "      <td>66</td>\n",
       "      <td>1625</td>\n",
       "    </tr>\n",
       "  </tbody>\n",
       "</table>\n",
       "</div>"
      ],
      "text/plain": [
       "           Average Fare per City  Number of Drivers  Number of Rides\n",
       "City Type                                                           \n",
       "Rural                  33.304723                 18              125\n",
       "Suburban               30.044145                 42              625\n",
       "Urban                  24.677581                 66             1625"
      ]
     },
     "execution_count": 269,
     "metadata": {},
     "output_type": "execute_result"
    }
   ],
   "source": [
    "summary_breakdown = pd.DataFrame({\"Number of Rides\":rides_count_summary,\n",
    "                          \"Average Fare per City\":fare_mean_summary, \n",
    "                          \"Number of Drivers\":drivers_count_summary})\n",
    "summary_breakdown"
   ]
  },
  {
   "cell_type": "markdown",
   "metadata": {},
   "source": [
    "# Bubble Plot"
   ]
  },
  {
   "cell_type": "code",
   "execution_count": 239,
   "metadata": {},
   "outputs": [
    {
     "data": {
      "image/png": "[encoded data removed]",
      "text/plain": [
       "<matplotlib.figure.Figure at 0x19c6d2a4080>"
      ]
     },
     "metadata": {},
     "output_type": "display_data"
    }
   ],
   "source": [
    "#Create dictionary to hold the color legend for each city as Gold, Light Sky Blue, and Light Coral\n",
    "color_legend = {\"Gold\": \"#FFD700\",\"Light Sky Blue\": \"#87CEFA\", \"Light Coral\": \"#f08080\"}\n",
    "\n",
    "#Color dictionnary\n",
    "color_dict = {\"Urban\":color_legend[\"Light Coral\"], \"Suburban\":color_legend[\"Light Sky Blue\"], \"Rural\":color_legend[\"Gold\"]}\n",
    "\n",
    "#Urban Plot\n",
    "plt.scatter(urban_type[\"Number of Rides\"], urban_type[\"Average Fare per City\"], color = color_dict[\"Urban\"], edgecolor =\"black\", s = urban_type[\"Number of Drivers\"]*10, label = \"Urban\", alpha = 0.5, linewidth = 1.5)\n",
    "#SubUrban Plot\n",
    "plt.scatter(suburban_type[\"Number of Rides\"], suburban_type[\"Average Fare per City\"], color = color_dict[\"Suburban\"], edgecolor =\"black\", s = suburban_type[\"Number of Drivers\"]*10, label = \"Suburban\", alpha = 0.5, linewidth = 1.5)\n",
    "#Rural Plot\n",
    "plt.scatter(rural_type[\"Number of Rides\"], rural_type[\"Average Fare per City\"], color = color_dict[\"Rural\"], edgecolor =\"black\", s = rural_type[\"Number of Drivers\"]*10, label = \"Rural\", alpha = 0.5, linewidth = 1.5)\n",
    "\n",
    "#Title, axis plot\n",
    "plt.suptitle(\"Pyber ride Sharing Data\")\n",
    "plt.title(\"Note : Size of bubble corresponds to number of drivers per city\")\n",
    "plt.xlabel(\"Number of rides per City\")\n",
    "plt.ylabel(\"Average Fare per City\")\n",
    "\n",
    "#Legends\n",
    "legend = plt.legend(frameon = True, edgecolor = \"black\")\n",
    "\n",
    "plt.grid()\n",
    "\n",
    "# Save an image of the chart and print to screen\n",
    "plt.savefig(\"Scatterplot_Pyber.png\")\n",
    "plt.show()"
   ]
  },
  {
   "cell_type": "markdown",
   "metadata": {},
   "source": [
    "# Pie chart of Total Fare by City Type"
   ]
  },
  {
   "cell_type": "code",
   "execution_count": 240,
   "metadata": {},
   "outputs": [
    {
     "data": {
      "text/plain": [
       "type\n",
       "Rural        4271.69\n",
       "Suburban    18779.26\n",
       "Urban       40093.25\n",
       "Name: fare, dtype: float64"
      ]
     },
     "execution_count": 240,
     "metadata": {},
     "output_type": "execute_result"
    }
   ],
   "source": [
    "# Total Fare by City Type - Create data for the pie\n",
    "fare_count_pie = city_ride_df.groupby(\"type\")[\"fare\"].sum()\n",
    "fare_count_pie"
   ]
  },
  {
   "cell_type": "code",
   "execution_count": 241,
   "metadata": {
    "scrolled": true
   },
   "outputs": [
    {
     "data": {
      "image/png": "[encoded data removed]",
      "text/plain": [
       "<matplotlib.figure.Figure at 0x19c6d29eeb8>"
      ]
     },
     "metadata": {},
     "output_type": "display_data"
    }
   ],
   "source": [
    "#Create pie chart\n",
    "fare_count_pie.index\n",
    "\n",
    "#The colors of each section of the pie chart\n",
    "colors = [\"#FFD700\",\"#87CEFA\",\"#f08080\"]\n",
    "\n",
    "#Set explode format\n",
    "explode = (0.0, 0.0, 0.1)\n",
    "\n",
    "#Plot Pie\n",
    "plt.pie(fare_count_pie, labels = fare_count_pie.index, autopct = \"%1.1f%%\", colors = colors, explode = explode, shadow = True, startangle = 270)\n",
    "\n",
    "#Equal axis chart\n",
    "plt.axis(\"equal\")\n",
    "\n",
    "#Add Title\n",
    "plt.title(\"% of Total Fares by City Type\")\n",
    "\n",
    "#Add Legends\n",
    "plt.legend(loc = \"upper right\")\n",
    "\n",
    "#Show the chart\n",
    "plt.savefig(\"Pie_PyberFareCount.png\")\n",
    "plt.show()"
   ]
  },
  {
   "cell_type": "markdown",
   "metadata": {},
   "source": [
    "# Pie chart of Total Ride by City Type"
   ]
  },
  {
   "cell_type": "code",
   "execution_count": 242,
   "metadata": {},
   "outputs": [
    {
     "data": {
      "text/plain": [
       "type\n",
       "Rural        125\n",
       "Suburban     625\n",
       "Urban       1625\n",
       "Name: ride_id, dtype: int64"
      ]
     },
     "execution_count": 242,
     "metadata": {},
     "output_type": "execute_result"
    }
   ],
   "source": [
    "# Total Ride by City Type - Create data for the pie\n",
    "ride_count_pie = city_ride_df.groupby(\"type\")[\"ride_id\"].count()\n",
    "ride_count_pie"
   ]
  },
  {
   "cell_type": "code",
   "execution_count": 243,
   "metadata": {
    "scrolled": true
   },
   "outputs": [
    {
     "data": {
      "image/png": "[encoded data removed]",
      "text/plain": [
       "<matplotlib.figure.Figure at 0x19c6d29e908>"
      ]
     },
     "metadata": {},
     "output_type": "display_data"
    }
   ],
   "source": [
    "#Create pie chart\n",
    "ride_count_pie.index\n",
    "\n",
    "#The colors of each section of the pie chart\n",
    "colors = [\"#FFD700\",\"#87CEFA\",\"#f08080\"]\n",
    "\n",
    "#Set explode format\n",
    "explode = (0.0, 0.0, 0.1)\n",
    "\n",
    "#Plot Pie\n",
    "plt.pie(ride_count_pie, labels = ride_count_pie.index, autopct = \"%1.1f%%\", colors = colors, explode = explode, shadow = True, startangle = 270)\n",
    "\n",
    "#Equal axis chart\n",
    "plt.axis(\"equal\")\n",
    "\n",
    "#Add Title\n",
    "plt.title(\"% of Total Rides by City Type\")\n",
    "\n",
    "#Add Legends\n",
    "plt.legend(loc = \"upper right\")\n",
    "\n",
    "#Show the chart\n",
    "plt.savefig(\"Pie_PyberRideCount.png\")\n",
    "plt.show()"
   ]
  },
  {
   "cell_type": "markdown",
   "metadata": {},
   "source": [
    "# Pie chart of Number of  Drivers by City Type"
   ]
  },
  {
   "cell_type": "code",
   "execution_count": 246,
   "metadata": {},
   "outputs": [
    {
     "data": {
      "text/plain": [
       "type\n",
       "Rural        125\n",
       "Suburban     625\n",
       "Urban       1625\n",
       "Name: driver_count, dtype: int64"
      ]
     },
     "execution_count": 246,
     "metadata": {},
     "output_type": "execute_result"
    }
   ],
   "source": [
    "# Total Drivers by City Type - Create data for the pie\n",
    "driver_count_pie = city_ride_df.groupby(\"type\")[\"driver_count\"].count()\n",
    "driver_count_pie"
   ]
  },
  {
   "cell_type": "code",
   "execution_count": 247,
   "metadata": {},
   "outputs": [
    {
     "data": {
      "image/png": "[encoded data removed]",
      "text/plain": [
       "<matplotlib.figure.Figure at 0x19c6c00d400>"
      ]
     },
     "metadata": {},
     "output_type": "display_data"
    }
   ],
   "source": [
    "#Create pie chart\n",
    "driver_count_pie.index\n",
    "\n",
    "#The colors of each section of the pie chart\n",
    "colors = [\"#FFD700\",\"#87CEFA\",\"#f08080\"]\n",
    "\n",
    "#Set explode format\n",
    "explode = (0.0, 0.0, 0.1)\n",
    "\n",
    "#Plot Pie\n",
    "plt.pie(driver_count_pie, labels = driver_count_pie.index, autopct = \"%1.1f%%\", colors = colors, explode = explode, shadow = True, startangle = 270)\n",
    "\n",
    "#Equal axis chart\n",
    "plt.axis(\"equal\")\n",
    "\n",
    "#Add Title\n",
    "plt.title(\"% of Total Drivers by City Type\")\n",
    "\n",
    "#Add Legends\n",
    "plt.legend(loc = \"upper right\")\n",
    "\n",
    "#Show the chart\n",
    "plt.savefig(\"Pie_PyberDriverCount.png\")\n",
    "plt.show()"
   ]
  },
  {
   "cell_type": "code",
   "execution_count": null,
   "metadata": {},
   "outputs": [],
   "source": []
  },
  {
   "cell_type": "code",
   "execution_count": null,
   "metadata": {},
   "outputs": [],
   "source": []
  }
 ],
 "metadata": {
  "kernelspec": {
   "display_name": "Python [conda env:PythonData]",
   "language": "python",
   "name": "conda-env-PythonData-py"
  },
  "language_info": {
   "codemirror_mode": {
    "name": "ipython",
    "version": 3
   },
   "file_extension": ".py",
   "mimetype": "text/x-python",
   "name": "python",
   "nbconvert_exporter": "python",
   "pygments_lexer": "ipython3",
   "version": "3.6.4"
  }
 },
 "nbformat": 4,
 "nbformat_minor": 2
}
